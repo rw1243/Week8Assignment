{
 "cells": [
  {
   "cell_type": "code",
   "execution_count": null,
   "metadata": {},
   "outputs": [],
   "source": [
    "class University:\n",
    "    def __init__(self, university_name, location, undergraduate_students, graduate_students):\n",
    "        self.university_name = university_name\n",
    "        self.location = location\n",
    "        self.undergraduate_students = undergraduate_students\n",
    "        self.graduate_students = graduate_students\n",
    "    \n",
    "    def print_university_size(self):\n",
    "        university_size = self.undergraduate_students + self.graduate_students\n",
    "        print('total size is: ', university_size)\n",
    "    \n",
    "    def is_undergraduate_greater(self):\n",
    "        if self.undergraduate_students > self.graduate_students:\n",
    "            print(\"There are more undergraduate students than graduate students\")\n",
    "        else:\n",
    "            print(\"There are more graduate students than undergraduate students\")"
   ]
  },
  {
   "cell_type": "code",
   "execution_count": null,
   "metadata": {},
   "outputs": [],
   "source": [
    "SPU = University(\"Saint Peter’s University\", \"NJ\", 5000, 2000)"
   ]
  },
  {
   "cell_type": "code",
   "execution_count": null,
   "metadata": {},
   "outputs": [],
   "source": [
    "SPU.print_university_size()"
   ]
  },
  {
   "cell_type": "code",
   "execution_count": null,
   "metadata": {},
   "outputs": [],
   "source": [
    "SPU.is_undergraduate_greater()"
   ]
  },
  {
   "cell_type": "code",
   "execution_count": null,
   "metadata": {},
   "outputs": [],
   "source": [
    "class College(University):\n",
    "    def __init__(self, university_name, location, undergraduate_students, graduate_students):\n",
    "        super().__init__(university_name, location, undergraduate_students, graduate_students)\n",
    "        \n",
    "    def new_method(self):\n",
    "        print(\"this is a new method that prints the location: \", self.location)"
   ]
  },
  {
   "cell_type": "code",
   "execution_count": null,
   "metadata": {},
   "outputs": [],
   "source": [
    "SPU = College(\"Saint Peter’s University\", \"NJ\", 5000, 2000)\n",
    "SPU.new_method()"
   ]
  },
  {
   "cell_type": "code",
   "execution_count": null,
   "metadata": {},
   "outputs": [],
   "source": []
  }
 ],
 "metadata": {
  "kernelspec": {
   "display_name": "Python 3",
   "language": "python",
   "name": "python3"
  },
  "language_info": {
   "codemirror_mode": {
    "name": "ipython",
    "version": 3
   },
   "file_extension": ".py",
   "mimetype": "text/x-python",
   "name": "python",
   "nbconvert_exporter": "python",
   "pygments_lexer": "ipython3",
   "version": "3.6.9"
  }
 },
 "nbformat": 4,
 "nbformat_minor": 4
}
